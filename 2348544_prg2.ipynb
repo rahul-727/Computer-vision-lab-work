{
  "nbformat": 4,
  "nbformat_minor": 0,
  "metadata": {
    "colab": {
      "provenance": [],
      "authorship_tag": "ABX9TyN9VuoYwHSKwSCvtQ32t7Ka",
      "include_colab_link": true
    },
    "kernelspec": {
      "name": "python3",
      "display_name": "Python 3"
    },
    "language_info": {
      "name": "python"
    }
  },
  "cells": [
    {
      "cell_type": "markdown",
      "metadata": {
        "id": "view-in-github",
        "colab_type": "text"
      },
      "source": [
        "<a href=\"https://colab.research.google.com/github/rahul-727/Computer-vision-lab-work/blob/main/2348544_prg2.ipynb\" target=\"_parent\"><img src=\"https://colab.research.google.com/assets/colab-badge.svg\" alt=\"Open In Colab\"/></a>"
      ]
    },
    {
      "cell_type": "code",
      "execution_count": 1,
      "metadata": {
        "id": "XEw6TmKMMbMk"
      },
      "outputs": [],
      "source": [
        "import cv2\n",
        "import numpy as np\n",
        "from scipy.ndimage import convolve\n",
        "from matplotlib import pyplot as plt"
      ]
    },
    {
      "cell_type": "code",
      "source": [
        "image_path = '/content/pexels-pixabay-219906.jpg'\n",
        "image = cv2.imread(image_path, cv2.IMREAD_GRAYSCALE)"
      ],
      "metadata": {
        "id": "jPzPKTf4Mqd7"
      },
      "execution_count": 2,
      "outputs": []
    },
    {
      "cell_type": "markdown",
      "source": [
        "Defining Kernels"
      ],
      "metadata": {
        "id": "OQwgphHuM_vB"
      }
    },
    {
      "cell_type": "code",
      "source": [
        "identity_kernel = np.array([[0, 0, 0],\n",
        "                            [0, 1, 0],\n",
        "                            [0, 0, 0]])\n",
        "\n",
        "edge_detection_kernel = np.array([[-1, -1, -1],\n",
        "                                  [-1, 8, -1],\n",
        "                                  [-1, -1, -1]])\n",
        "\n",
        "sharpen_kernel = np.array([[0, -1, 0],\n",
        "                           [-1, 5, -1],\n",
        "                           [0, -1, 0]])\n",
        "\n",
        "box_blur_kernel = np.array([[1, 1, 1],\n",
        "                            [1, 1, 1],\n",
        "                            [1, 1, 1]]) / 9.0\n",
        "\n",
        "gaussian_blur_kernel = np.array([[1, 2, 1],\n",
        "                                 [2, 4, 2],\n",
        "                                 [1, 2, 1]]) / 16.0\n"
      ],
      "metadata": {
        "id": "Git_TArFM4QX"
      },
      "execution_count": 3,
      "outputs": []
    },
    {
      "cell_type": "markdown",
      "source": [
        "Applying Kernels Using filter2D from OpenCV"
      ],
      "metadata": {
        "id": "w6ghmKfWNCIe"
      }
    },
    {
      "cell_type": "code",
      "source": [
        "identity_image = cv2.filter2D(image, -1, identity_kernel)\n",
        "edge_image = cv2.filter2D(image, -1, edge_detection_kernel)\n",
        "sharpen_image = cv2.filter2D(image, -1, sharpen_kernel)\n",
        "box_blur_image = cv2.filter2D(image, -1, box_blur_kernel)\n",
        "gaussian_blur_image = cv2.filter2D(image, -1, gaussian_blur_kernel)"
      ],
      "metadata": {
        "id": "q-or-uD2NCcA"
      },
      "execution_count": 4,
      "outputs": []
    }
  ]
}